{
 "cells": [
  {
   "cell_type": "code",
   "execution_count": 6,
   "id": "8e9d8ee9",
   "metadata": {},
   "outputs": [],
   "source": [
    "import pandas as pd\n",
    "import joblib\n",
    "import gradio as gr"
   ]
  },
  {
   "cell_type": "code",
   "execution_count": 7,
   "id": "480cb01f",
   "metadata": {},
   "outputs": [],
   "source": [
    "modelo = joblib.load('./modelo_colesterol.pkl')"
   ]
  },
  {
   "cell_type": "code",
   "execution_count": 8,
   "id": "3d1ca85f",
   "metadata": {},
   "outputs": [],
   "source": [
    "def predict(grupo_sanguineo, fumante, nivel_atividade_fisica, idade, peso, altura):\n",
    "    _fumante = \"Sim\" if fumante else \"Não\"\n",
    "    predicao_individual = {\n",
    "        'grupo_sanguineo': grupo_sanguineo,\n",
    "        'fumante': _fumante,\n",
    "        'nivel_atividade_fisica': nivel_atividade_fisica,\n",
    "        'idade': idade,\n",
    "        'peso': peso,\n",
    "        'altura': altura\n",
    "}\n",
    "\n",
    "    predict_df = pd.DataFrame(predicao_individual, index=[1])\n",
    "    colesterol = modelo.predict(predict_df)\n",
    "\n",
    "    return colesterol[0]"
   ]
  },
  {
   "cell_type": "code",
   "execution_count": 9,
   "id": "0133540e",
   "metadata": {},
   "outputs": [],
   "source": [
    "demo = gr.Interface(\n",
    "    fn=predict,\n",
    "    inputs=[\n",
    "        gr.Radio(['O', 'A', 'B', 'AB']),\n",
    "        'checkbox',\n",
    "        gr.Radio(['Baixo', 'Moderado', 'Alto']),\n",
    "        gr.Slider(20, 80, step=1),\n",
    "        gr.Slider(40, 160, step=0.1),\n",
    "        gr.Slider(150, 200, step=1)],\n",
    "    outputs=['number']\n",
    ")"
   ]
  },
  {
   "cell_type": "code",
   "execution_count": 11,
   "id": "580b76cb",
   "metadata": {},
   "outputs": [
    {
     "name": "stdout",
     "output_type": "stream",
     "text": [
      "Rerunning server... use `close()` to stop if you need to change `launch()` parameters.\n",
      "----\n",
      "\n",
      "Could not create share link. Please check your internet connection or our status page: https://status.gradio.app.\n"
     ]
    },
    {
     "data": {
      "text/html": [
       "<div><iframe src=\"http://127.0.0.1:7861/\" width=\"100%\" height=\"500\" allow=\"autoplay; camera; microphone; clipboard-read; clipboard-write;\" frameborder=\"0\" allowfullscreen></iframe></div>"
      ],
      "text/plain": [
       "<IPython.core.display.HTML object>"
      ]
     },
     "metadata": {},
     "output_type": "display_data"
    },
    {
     "data": {
      "text/plain": []
     },
     "execution_count": 11,
     "metadata": {},
     "output_type": "execute_result"
    }
   ],
   "source": [
    "demo.launch(share=True)"
   ]
  }
 ],
 "metadata": {
  "kernelspec": {
   "display_name": "laboratorio-colesterol-IA-qYNuGUhZ",
   "language": "python",
   "name": "python3"
  },
  "language_info": {
   "codemirror_mode": {
    "name": "ipython",
    "version": 3
   },
   "file_extension": ".py",
   "mimetype": "text/x-python",
   "name": "python",
   "nbconvert_exporter": "python",
   "pygments_lexer": "ipython3",
   "version": "3.13.7"
  }
 },
 "nbformat": 4,
 "nbformat_minor": 5
}
